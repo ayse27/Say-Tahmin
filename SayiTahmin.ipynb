{
 "cells": [
  {
   "cell_type": "code",
   "execution_count": null,
   "id": "49906cd8-53c8-4040-a0b5-6bcfeb530df9",
   "metadata": {},
   "outputs": [
    {
     "name": "stdout",
     "output_type": "stream",
     "text": [
      "Sayı Tahmin Oyununa Hoş Geldiniz!\n",
      "1 ile 100 arasında bir sayı tuttum. Bakalım tahmin edebilecek misiniz?\n",
      "Her tahmininizden sonra, size 'Daha büyük' veya 'Daha küçük' diyerek ipucu vereceğim.\n"
     ]
    }
   ],
   "source": [
    "import random\n",
    "\n",
    "def sayi_tahmin_oyunu():\n",
    "    print(\"Sayı Tahmin Oyununa Hoş Geldiniz!\")\n",
    "    print(\"1 ile 100 arasında bir sayı tuttum. Bakalım tahmin edebilecek misiniz?\")\n",
    "    print(\"Her tahmininizden sonra, size 'Daha büyük' veya 'Daha küçük' diyerek ipucu vereceğim.\")\n",
    "    \n",
    "    # Rastgele sayı üretimi\n",
    "    tutulan_sayi = random.randint(1, 100)\n",
    "    tahmin_hakki = 7  # Kullanıcının toplam 7 hakkı var\n",
    "    \n",
    "    for hak in range(1, tahmin_hakki + 1):\n",
    "        try:\n",
    "            tahmin = int(input(f\"{hak}. tahmininizi girin: \"))\n",
    "        except ValueError:\n",
    "            print(\"Lütfen geçerli bir sayı girin.\")\n",
    "            continue\n",
    "\n",
    "        if tahmin < 1 or tahmin > 100:\n",
    "            print(\"Lütfen 1 ile 100 arasında bir sayı girin.\")\n",
    "            continue\n",
    "\n",
    "        if tahmin == tutulan_sayi:\n",
    "            print(f\"Tebrikler! {hak}. denemede doğru tahmin ettiniz.\")\n",
    "            break\n",
    "        elif tahmin < tutulan_sayi:\n",
    "            print(\"Daha büyük bir sayı tahmin edin.\")\n",
    "        else:\n",
    "            print(\"Daha küçük bir sayı tahmin edin.\")\n",
    "    else:\n",
    "        print(f\"Maalesef tüm haklarınızı kullandınız. Doğru cevap {tutulan_sayi} idi.\")\n",
    "    \n",
    "    print(\"Oyun bitti. Tekrar oynamak için programı yeniden başlatabilirsiniz.\")\n",
    "\n",
    "# Oyunu çalıştır\n",
    "if __name__ == \"__main__\":\n",
    "    sayi_tahmin_oyunu()\n"
   ]
  },
  {
   "cell_type": "code",
   "execution_count": null,
   "id": "f4d7fe74-a68e-4346-a390-00145d2b8519",
   "metadata": {},
   "outputs": [],
   "source": []
  },
  {
   "cell_type": "code",
   "execution_count": null,
   "id": "1038c84c-3dce-4333-9584-57d0ed20da25",
   "metadata": {},
   "outputs": [],
   "source": []
  }
 ],
 "metadata": {
  "kernelspec": {
   "display_name": "Python 3 (ipykernel)",
   "language": "python",
   "name": "python3"
  },
  "language_info": {
   "codemirror_mode": {
    "name": "ipython",
    "version": 3
   },
   "file_extension": ".py",
   "mimetype": "text/x-python",
   "name": "python",
   "nbconvert_exporter": "python",
   "pygments_lexer": "ipython3",
   "version": "3.12.7"
  }
 },
 "nbformat": 4,
 "nbformat_minor": 5
}
